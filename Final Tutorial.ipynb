{
 "cells": [
  {
   "cell_type": "markdown",
   "metadata": {},
   "source": [
    "THINGS TO DO TO UPDATE WEBSITE: <br>\n",
    "jupyter nbconvert --to html \"Final Tutorial.ipynb\" <br>\n",
    "delete old index.html, rename \"Final Tutorial.html\" to index.html <br>\n",
    "rename title in file to \"Analysis of NFL Play by Play Data\" <br>\n",
    "<br>\n",
    "THINK ABOUT: <br>\n",
    "what looking at <br>\n",
    "what predict <br>\n",
    "what motivates, why important, what do you want to learn <br>\n",
    "what see <br>\n",
    "question <br>\n",
    "scope <br>\n",
    "<br>\n",
    "CHECK IMPORT LINKS <br>\n",
    "COMMENT CODE"
   ]
  },
  {
   "cell_type": "markdown",
   "metadata": {},
   "source": [
    "# BEGIN\n",
    "# ---------------------------------------------------------------------------------------------------------------"
   ]
  },
  {
   "cell_type": "markdown",
   "metadata": {},
   "source": [
    "![NFL Logo](nfl_logo.png)"
   ]
  },
  {
   "cell_type": "markdown",
   "metadata": {},
   "source": [
    "# Analysis of NFL Play by Play Data\n",
    "Pierson Polcaro"
   ]
  },
  {
   "cell_type": "markdown",
   "metadata": {},
   "source": [
    "# Introduction"
   ]
  },
  {
   "cell_type": "markdown",
   "metadata": {},
   "source": [
    "The National Football League (NFL) is an American football league in the United States. American football is the most popular sport in the United States, with the NFL being the main league. There are 32 different teams from all over the country, divided into two Conferences, the American Football Conference (AFC) and the National Football Conference (NFC), which are then split into divisions of four teams each. The object of the game, like many others, is to score more points than the other team, through methods such as a touchdown (6 points), with an extra point attempt (1 point), a field goal (3 points), or a safety (2 points)."
   ]
  },
  {
   "cell_type": "markdown",
   "metadata": {},
   "source": [
    "There has been much statistical analysis of this sport, in many different areas. Analysis has been done on individual players, teams, and the game as a whole. This analysis is valuable because the teams are always looking to be better at what they do, and statistical analysis can give more insight into why certain events happen, and potentially give teams an advantage over others."
   ]
  },
  {
   "cell_type": "markdown",
   "metadata": {},
   "source": [
    "In this tutorial, I intend to look at different aspects of this game, and investigate when certain events happen, and if certain statistics are good predictors of others."
   ]
  },
  {
   "cell_type": "markdown",
   "metadata": {},
   "source": [
    "The data we will be using is detailed play by play data for NFL games from 2009 to 2017, posted on kaggle under the username \"Max Horowitz.\" This dataset includes a lot of information for each play, such as times, teams, play intentions, and play outcomes. The dataset can be found [here](https://www.kaggle.com/maxhorowitz/nflplaybyplay2009to2016)."
   ]
  },
  {
   "cell_type": "markdown",
   "metadata": {},
   "source": [
    "## Technologies"
   ]
  },
  {
   "cell_type": "markdown",
   "metadata": {},
   "source": [
    "In order to explore and analyze the data, we will use the following technologies: <br>\n",
    "- [Python](https://www.python.org/) <br>\n",
    "- [Matplotlib](https://matplotlib.org/) <br>\n",
    "- [NumPy](https://numpy.org/) <br>\n",
    "- [Pandas](https://pandas.pydata.org/) <br>\n",
    "- [SciPy](https://www.scipy.org/) <br>\n",
    "- [Seaborn](https://seaborn.pydata.org/)"
   ]
  },
  {
   "cell_type": "code",
   "execution_count": 1,
   "metadata": {},
   "outputs": [],
   "source": [
    "# import necessary packages\n",
    "import matplotlib.pyplot as plt\n",
    "import numpy as np\n",
    "import pandas as pd\n",
    "import scipy\n",
    "import seaborn"
   ]
  },
  {
   "cell_type": "markdown",
   "metadata": {},
   "source": [
    "# Data Collection"
   ]
  },
  {
   "cell_type": "markdown",
   "metadata": {},
   "source": [
    "The first step in data analysis is to get the data. Because the comma separated values (CSV) file of play information is so large, we have to load it in chunks, so we don't run out of memory."
   ]
  },
  {
   "cell_type": "code",
   "execution_count": 2,
   "metadata": {
    "scrolled": true
   },
   "outputs": [
    {
     "data": {
      "text/html": [
       "<div>\n",
       "<style scoped>\n",
       "    .dataframe tbody tr th:only-of-type {\n",
       "        vertical-align: middle;\n",
       "    }\n",
       "\n",
       "    .dataframe tbody tr th {\n",
       "        vertical-align: top;\n",
       "    }\n",
       "\n",
       "    .dataframe thead th {\n",
       "        text-align: right;\n",
       "    }\n",
       "</style>\n",
       "<table border=\"1\" class=\"dataframe\">\n",
       "  <thead>\n",
       "    <tr style=\"text-align: right;\">\n",
       "      <th></th>\n",
       "      <th>Date</th>\n",
       "      <th>GameID</th>\n",
       "      <th>Drive</th>\n",
       "      <th>qtr</th>\n",
       "      <th>down</th>\n",
       "      <th>time</th>\n",
       "      <th>TimeUnder</th>\n",
       "      <th>TimeSecs</th>\n",
       "      <th>PlayTimeDiff</th>\n",
       "      <th>SideofField</th>\n",
       "      <th>...</th>\n",
       "      <th>yacEPA</th>\n",
       "      <th>Home_WP_pre</th>\n",
       "      <th>Away_WP_pre</th>\n",
       "      <th>Home_WP_post</th>\n",
       "      <th>Away_WP_post</th>\n",
       "      <th>Win_Prob</th>\n",
       "      <th>WPA</th>\n",
       "      <th>airWPA</th>\n",
       "      <th>yacWPA</th>\n",
       "      <th>Season</th>\n",
       "    </tr>\n",
       "  </thead>\n",
       "  <tbody>\n",
       "    <tr>\n",
       "      <th>0</th>\n",
       "      <td>2009-09-10</td>\n",
       "      <td>2009091000</td>\n",
       "      <td>1</td>\n",
       "      <td>1</td>\n",
       "      <td>NaN</td>\n",
       "      <td>15:00</td>\n",
       "      <td>15</td>\n",
       "      <td>3600.0</td>\n",
       "      <td>0.0</td>\n",
       "      <td>TEN</td>\n",
       "      <td>...</td>\n",
       "      <td>NaN</td>\n",
       "      <td>0.485675</td>\n",
       "      <td>0.514325</td>\n",
       "      <td>0.546433</td>\n",
       "      <td>0.453567</td>\n",
       "      <td>0.485675</td>\n",
       "      <td>0.060758</td>\n",
       "      <td>NaN</td>\n",
       "      <td>NaN</td>\n",
       "      <td>2009</td>\n",
       "    </tr>\n",
       "    <tr>\n",
       "      <th>1</th>\n",
       "      <td>2009-09-10</td>\n",
       "      <td>2009091000</td>\n",
       "      <td>1</td>\n",
       "      <td>1</td>\n",
       "      <td>1.0</td>\n",
       "      <td>14:53</td>\n",
       "      <td>15</td>\n",
       "      <td>3593.0</td>\n",
       "      <td>7.0</td>\n",
       "      <td>PIT</td>\n",
       "      <td>...</td>\n",
       "      <td>1.146076</td>\n",
       "      <td>0.546433</td>\n",
       "      <td>0.453567</td>\n",
       "      <td>0.551088</td>\n",
       "      <td>0.448912</td>\n",
       "      <td>0.546433</td>\n",
       "      <td>0.004655</td>\n",
       "      <td>-0.032244</td>\n",
       "      <td>0.036899</td>\n",
       "      <td>2009</td>\n",
       "    </tr>\n",
       "    <tr>\n",
       "      <th>2</th>\n",
       "      <td>2009-09-10</td>\n",
       "      <td>2009091000</td>\n",
       "      <td>1</td>\n",
       "      <td>1</td>\n",
       "      <td>2.0</td>\n",
       "      <td>14:16</td>\n",
       "      <td>15</td>\n",
       "      <td>3556.0</td>\n",
       "      <td>37.0</td>\n",
       "      <td>PIT</td>\n",
       "      <td>...</td>\n",
       "      <td>NaN</td>\n",
       "      <td>0.551088</td>\n",
       "      <td>0.448912</td>\n",
       "      <td>0.510793</td>\n",
       "      <td>0.489207</td>\n",
       "      <td>0.551088</td>\n",
       "      <td>-0.040295</td>\n",
       "      <td>NaN</td>\n",
       "      <td>NaN</td>\n",
       "      <td>2009</td>\n",
       "    </tr>\n",
       "    <tr>\n",
       "      <th>3</th>\n",
       "      <td>2009-09-10</td>\n",
       "      <td>2009091000</td>\n",
       "      <td>1</td>\n",
       "      <td>1</td>\n",
       "      <td>3.0</td>\n",
       "      <td>13:35</td>\n",
       "      <td>14</td>\n",
       "      <td>3515.0</td>\n",
       "      <td>41.0</td>\n",
       "      <td>PIT</td>\n",
       "      <td>...</td>\n",
       "      <td>-5.031425</td>\n",
       "      <td>0.510793</td>\n",
       "      <td>0.489207</td>\n",
       "      <td>0.461217</td>\n",
       "      <td>0.538783</td>\n",
       "      <td>0.510793</td>\n",
       "      <td>-0.049576</td>\n",
       "      <td>0.106663</td>\n",
       "      <td>-0.156239</td>\n",
       "      <td>2009</td>\n",
       "    </tr>\n",
       "    <tr>\n",
       "      <th>4</th>\n",
       "      <td>2009-09-10</td>\n",
       "      <td>2009091000</td>\n",
       "      <td>1</td>\n",
       "      <td>1</td>\n",
       "      <td>4.0</td>\n",
       "      <td>13:27</td>\n",
       "      <td>14</td>\n",
       "      <td>3507.0</td>\n",
       "      <td>8.0</td>\n",
       "      <td>PIT</td>\n",
       "      <td>...</td>\n",
       "      <td>NaN</td>\n",
       "      <td>0.461217</td>\n",
       "      <td>0.538783</td>\n",
       "      <td>0.558929</td>\n",
       "      <td>0.441071</td>\n",
       "      <td>0.461217</td>\n",
       "      <td>0.097712</td>\n",
       "      <td>NaN</td>\n",
       "      <td>NaN</td>\n",
       "      <td>2009</td>\n",
       "    </tr>\n",
       "  </tbody>\n",
       "</table>\n",
       "<p>5 rows × 102 columns</p>\n",
       "</div>"
      ],
      "text/plain": [
       "         Date      GameID  Drive  qtr  down   time  TimeUnder  TimeSecs  \\\n",
       "0  2009-09-10  2009091000      1    1   NaN  15:00         15    3600.0   \n",
       "1  2009-09-10  2009091000      1    1   1.0  14:53         15    3593.0   \n",
       "2  2009-09-10  2009091000      1    1   2.0  14:16         15    3556.0   \n",
       "3  2009-09-10  2009091000      1    1   3.0  13:35         14    3515.0   \n",
       "4  2009-09-10  2009091000      1    1   4.0  13:27         14    3507.0   \n",
       "\n",
       "   PlayTimeDiff SideofField  ...    yacEPA  Home_WP_pre  Away_WP_pre  \\\n",
       "0           0.0         TEN  ...       NaN     0.485675     0.514325   \n",
       "1           7.0         PIT  ...  1.146076     0.546433     0.453567   \n",
       "2          37.0         PIT  ...       NaN     0.551088     0.448912   \n",
       "3          41.0         PIT  ... -5.031425     0.510793     0.489207   \n",
       "4           8.0         PIT  ...       NaN     0.461217     0.538783   \n",
       "\n",
       "   Home_WP_post  Away_WP_post  Win_Prob       WPA    airWPA    yacWPA  Season  \n",
       "0      0.546433      0.453567  0.485675  0.060758       NaN       NaN    2009  \n",
       "1      0.551088      0.448912  0.546433  0.004655 -0.032244  0.036899    2009  \n",
       "2      0.510793      0.489207  0.551088 -0.040295       NaN       NaN    2009  \n",
       "3      0.461217      0.538783  0.510793 -0.049576  0.106663 -0.156239    2009  \n",
       "4      0.558929      0.441071  0.461217  0.097712       NaN       NaN    2009  \n",
       "\n",
       "[5 rows x 102 columns]"
      ]
     },
     "execution_count": 2,
     "metadata": {},
     "output_type": "execute_result"
    }
   ],
   "source": [
    "# read data in chunks so it fits in memory\n",
    "chunks = pd.read_csv(\"NFL Play by Play 2009-2017.csv\", chunksize=1000)\n",
    "data = pd.concat(chunks)\n",
    "data.head()"
   ]
  },
  {
   "cell_type": "markdown",
   "metadata": {},
   "source": [
    "# Data Processing"
   ]
  },
  {
   "cell_type": "markdown",
   "metadata": {},
   "source": [
    "Above, we can see the first and last few columns of the first five rows. We can also see that there are a total of 102 columns. We have no use for all of these, so we must delete those that we will not use. Unnecessary columns include those related to probability (we do not know how they were calculated or exactly what they refer to), and columns with vague titles."
   ]
  },
  {
   "cell_type": "code",
   "execution_count": 3,
   "metadata": {},
   "outputs": [
    {
     "data": {
      "text/html": [
       "<div>\n",
       "<style scoped>\n",
       "    .dataframe tbody tr th:only-of-type {\n",
       "        vertical-align: middle;\n",
       "    }\n",
       "\n",
       "    .dataframe tbody tr th {\n",
       "        vertical-align: top;\n",
       "    }\n",
       "\n",
       "    .dataframe thead th {\n",
       "        text-align: right;\n",
       "    }\n",
       "</style>\n",
       "<table border=\"1\" class=\"dataframe\">\n",
       "  <thead>\n",
       "    <tr style=\"text-align: right;\">\n",
       "      <th></th>\n",
       "      <th>Date</th>\n",
       "      <th>GameID</th>\n",
       "      <th>Drive</th>\n",
       "      <th>qtr</th>\n",
       "      <th>down</th>\n",
       "      <th>time</th>\n",
       "      <th>TimeUnder</th>\n",
       "      <th>TimeSecs</th>\n",
       "      <th>PlayTimeDiff</th>\n",
       "      <th>SideofField</th>\n",
       "      <th>...</th>\n",
       "      <th>HomeTeam</th>\n",
       "      <th>AwayTeam</th>\n",
       "      <th>Timeout_Indicator</th>\n",
       "      <th>Timeout_Team</th>\n",
       "      <th>posteam_timeouts_pre</th>\n",
       "      <th>HomeTimeouts_Remaining_Pre</th>\n",
       "      <th>AwayTimeouts_Remaining_Pre</th>\n",
       "      <th>HomeTimeouts_Remaining_Post</th>\n",
       "      <th>AwayTimeouts_Remaining_Post</th>\n",
       "      <th>Season</th>\n",
       "    </tr>\n",
       "  </thead>\n",
       "  <tbody>\n",
       "    <tr>\n",
       "      <th>0</th>\n",
       "      <td>2009-09-10</td>\n",
       "      <td>2009091000</td>\n",
       "      <td>1</td>\n",
       "      <td>1</td>\n",
       "      <td>NaN</td>\n",
       "      <td>15:00</td>\n",
       "      <td>15</td>\n",
       "      <td>3600.0</td>\n",
       "      <td>0.0</td>\n",
       "      <td>TEN</td>\n",
       "      <td>...</td>\n",
       "      <td>PIT</td>\n",
       "      <td>TEN</td>\n",
       "      <td>0</td>\n",
       "      <td>None</td>\n",
       "      <td>3</td>\n",
       "      <td>3</td>\n",
       "      <td>3</td>\n",
       "      <td>3</td>\n",
       "      <td>3</td>\n",
       "      <td>2009</td>\n",
       "    </tr>\n",
       "    <tr>\n",
       "      <th>1</th>\n",
       "      <td>2009-09-10</td>\n",
       "      <td>2009091000</td>\n",
       "      <td>1</td>\n",
       "      <td>1</td>\n",
       "      <td>1.0</td>\n",
       "      <td>14:53</td>\n",
       "      <td>15</td>\n",
       "      <td>3593.0</td>\n",
       "      <td>7.0</td>\n",
       "      <td>PIT</td>\n",
       "      <td>...</td>\n",
       "      <td>PIT</td>\n",
       "      <td>TEN</td>\n",
       "      <td>0</td>\n",
       "      <td>None</td>\n",
       "      <td>3</td>\n",
       "      <td>3</td>\n",
       "      <td>3</td>\n",
       "      <td>3</td>\n",
       "      <td>3</td>\n",
       "      <td>2009</td>\n",
       "    </tr>\n",
       "    <tr>\n",
       "      <th>2</th>\n",
       "      <td>2009-09-10</td>\n",
       "      <td>2009091000</td>\n",
       "      <td>1</td>\n",
       "      <td>1</td>\n",
       "      <td>2.0</td>\n",
       "      <td>14:16</td>\n",
       "      <td>15</td>\n",
       "      <td>3556.0</td>\n",
       "      <td>37.0</td>\n",
       "      <td>PIT</td>\n",
       "      <td>...</td>\n",
       "      <td>PIT</td>\n",
       "      <td>TEN</td>\n",
       "      <td>0</td>\n",
       "      <td>None</td>\n",
       "      <td>3</td>\n",
       "      <td>3</td>\n",
       "      <td>3</td>\n",
       "      <td>3</td>\n",
       "      <td>3</td>\n",
       "      <td>2009</td>\n",
       "    </tr>\n",
       "    <tr>\n",
       "      <th>3</th>\n",
       "      <td>2009-09-10</td>\n",
       "      <td>2009091000</td>\n",
       "      <td>1</td>\n",
       "      <td>1</td>\n",
       "      <td>3.0</td>\n",
       "      <td>13:35</td>\n",
       "      <td>14</td>\n",
       "      <td>3515.0</td>\n",
       "      <td>41.0</td>\n",
       "      <td>PIT</td>\n",
       "      <td>...</td>\n",
       "      <td>PIT</td>\n",
       "      <td>TEN</td>\n",
       "      <td>0</td>\n",
       "      <td>None</td>\n",
       "      <td>3</td>\n",
       "      <td>3</td>\n",
       "      <td>3</td>\n",
       "      <td>3</td>\n",
       "      <td>3</td>\n",
       "      <td>2009</td>\n",
       "    </tr>\n",
       "    <tr>\n",
       "      <th>4</th>\n",
       "      <td>2009-09-10</td>\n",
       "      <td>2009091000</td>\n",
       "      <td>1</td>\n",
       "      <td>1</td>\n",
       "      <td>4.0</td>\n",
       "      <td>13:27</td>\n",
       "      <td>14</td>\n",
       "      <td>3507.0</td>\n",
       "      <td>8.0</td>\n",
       "      <td>PIT</td>\n",
       "      <td>...</td>\n",
       "      <td>PIT</td>\n",
       "      <td>TEN</td>\n",
       "      <td>0</td>\n",
       "      <td>None</td>\n",
       "      <td>3</td>\n",
       "      <td>3</td>\n",
       "      <td>3</td>\n",
       "      <td>3</td>\n",
       "      <td>3</td>\n",
       "      <td>2009</td>\n",
       "    </tr>\n",
       "  </tbody>\n",
       "</table>\n",
       "<p>5 rows × 80 columns</p>\n",
       "</div>"
      ],
      "text/plain": [
       "         Date      GameID  Drive  qtr  down   time  TimeUnder  TimeSecs  \\\n",
       "0  2009-09-10  2009091000      1    1   NaN  15:00         15    3600.0   \n",
       "1  2009-09-10  2009091000      1    1   1.0  14:53         15    3593.0   \n",
       "2  2009-09-10  2009091000      1    1   2.0  14:16         15    3556.0   \n",
       "3  2009-09-10  2009091000      1    1   3.0  13:35         14    3515.0   \n",
       "4  2009-09-10  2009091000      1    1   4.0  13:27         14    3507.0   \n",
       "\n",
       "   PlayTimeDiff SideofField  ...  HomeTeam  AwayTeam  Timeout_Indicator  \\\n",
       "0           0.0         TEN  ...       PIT       TEN                  0   \n",
       "1           7.0         PIT  ...       PIT       TEN                  0   \n",
       "2          37.0         PIT  ...       PIT       TEN                  0   \n",
       "3          41.0         PIT  ...       PIT       TEN                  0   \n",
       "4           8.0         PIT  ...       PIT       TEN                  0   \n",
       "\n",
       "   Timeout_Team  posteam_timeouts_pre  HomeTimeouts_Remaining_Pre  \\\n",
       "0          None                     3                           3   \n",
       "1          None                     3                           3   \n",
       "2          None                     3                           3   \n",
       "3          None                     3                           3   \n",
       "4          None                     3                           3   \n",
       "\n",
       "  AwayTimeouts_Remaining_Pre HomeTimeouts_Remaining_Post  \\\n",
       "0                          3                           3   \n",
       "1                          3                           3   \n",
       "2                          3                           3   \n",
       "3                          3                           3   \n",
       "4                          3                           3   \n",
       "\n",
       "  AwayTimeouts_Remaining_Post  Season  \n",
       "0                           3    2009  \n",
       "1                           3    2009  \n",
       "2                           3    2009  \n",
       "3                           3    2009  \n",
       "4                           3    2009  \n",
       "\n",
       "[5 rows x 80 columns]"
      ]
     },
     "execution_count": 3,
     "metadata": {},
     "output_type": "execute_result"
    }
   ],
   "source": [
    "# remove columns related to probability\n",
    "for col in data.columns:\n",
    "    if \"Prob\" in col or \"WP\" in col or \"EPA\" in col:\n",
    "        del data[col]\n",
    "\n",
    "# remove columns we will not use\n",
    "del data[\"ExpPts\"]\n",
    "del data[\"sp\"]\n",
    "data.head()"
   ]
  },
  {
   "cell_type": "markdown",
   "metadata": {},
   "source": [
    "As seen under the above dataframe, we now only have 80 columns, meaning we have cut out 22 useless columns."
   ]
  },
  {
   "cell_type": "markdown",
   "metadata": {},
   "source": [
    "There is a column with the number of seconds until the end of the game, but it will be useful to also have a column with the time since the beginning of the game. To create this, we simply have to subtract each entry in the column from the number of seconds in regulation time, 3600."
   ]
  },
  {
   "cell_type": "code",
   "execution_count": 4,
   "metadata": {},
   "outputs": [],
   "source": [
    "# create column for time from start of game\n",
    "data[\"game_time_sec\"] = 3600 - data[\"TimeSecs\"]"
   ]
  },
  {
   "cell_type": "markdown",
   "metadata": {},
   "source": [
    "There are a few columns that inform us if a turnover has happened, but it would be useful to combine these so we can know if a turnover has happened at all. A turnover counts as an interception or a fumble where the defending team ends up with the ball."
   ]
  },
  {
   "cell_type": "code",
   "execution_count": 5,
   "metadata": {},
   "outputs": [],
   "source": [
    "# create column to classify play as turnover or not\n",
    "# a turnover is defined as an interception or a fumble picked up by the defense\n",
    "data[\"turnover\"] = 0\n",
    "for i in range(len(data)):\n",
    "    if data.at[i, \"InterceptionThrown\"] or (data.at[i, \"Fumble\"] and data.at[i, \"RecFumbTeam\"] == data.at[i, \"DefensiveTeam\"]):\n",
    "        data.at[i, \"turnover\"] = 1"
   ]
  },
  {
   "cell_type": "markdown",
   "metadata": {},
   "source": [
    "There are several columns that tell us if a team scored a certain type of points, but it would be useful to have a column that tells us if a team scored at all. We will create two columns to measure this, one for the team that has the ball, and the other for the defending team. For the team with the ball, we will count a score as a touchdown or a field goal, as an extra point is directly connected to a touchdown. For the defense, we will count a score as a touchdown that they get while on the defense, or a safety that they score."
   ]
  },
  {
   "cell_type": "code",
   "execution_count": 6,
   "metadata": {},
   "outputs": [],
   "source": [
    "# create columns to classify when offense and defense score\n",
    "# offense scores when they score a touchdown or a field goal\n",
    "# defense scores when they get a turnover and a touchdown, or a safety\n",
    "data[\"posteam_scored\"] = 0\n",
    "data[\"defteam_scored\"] = 0\n",
    "for i in range(len(data)):\n",
    "    if (data.at[i, \"Touchdown\"] and not data.at[i, \"turnover\"]) or data.at[i, \"FieldGoalResult\"] == \"Good\":\n",
    "        data.at[i, \"posteam_scored\"] = 1\n",
    "    if (data.at[i, \"Touchdown\"] and data.at[i, \"turnover\"]) or data.at[i, \"Safety\"]:\n",
    "        data.at[i, \"defteam_scored\"] = 1"
   ]
  },
  {
   "cell_type": "markdown",
   "metadata": {},
   "source": [
    "# Data Visualization"
   ]
  },
  {
   "cell_type": "markdown",
   "metadata": {},
   "source": [
    "### Points vs time"
   ]
  },
  {
   "cell_type": "markdown",
   "metadata": {},
   "source": [
    "The first question that we will investigate is if there are certain time periods during games that teams score points. To achieve this, we can graph the occurrence of scoring over game time. We will do this with histograms, as we are graphing frequencies."
   ]
  },
  {
   "cell_type": "code",
   "execution_count": 7,
   "metadata": {
    "scrolled": true
   },
   "outputs": [
    {
     "data": {
      "image/png": "[encoded data removed]",
      "text/plain": [
       "<Figure size 432x288 with 1 Axes>"
      ]
     },
     "metadata": {
      "needs_background": "light"
     },
     "output_type": "display_data"
    },
    {
     "data": {
      "image/png": "[encoded data removed]",
      "text/plain": [
       "<Figure size 432x288 with 1 Axes>"
      ]
     },
     "metadata": {
      "needs_background": "light"
     },
     "output_type": "display_data"
    }
   ],
   "source": [
    "# plot frequency of offense scoring\n",
    "pos_scores = []\n",
    "for i in range(len(data)):\n",
    "    if data.at[i, \"posteam_scored\"] and data.at[i, \"game_time_sec\"] <= 3600:\n",
    "        pos_scores.append(data.at[i, \"game_time_sec\"])\n",
    "plt.hist(pos_scores, bins=75)\n",
    "plt.xticks(np.arange(0, 3601, 300))\n",
    "plt.xlabel(\"Time since game start (sec)\")\n",
    "plt.ylabel(\"Number of scores\")\n",
    "plt.title(\"Frequency of offensive scoring\")\n",
    "plt.show()\n",
    "\n",
    "# plot frequency of defense scoring\n",
    "def_scores = []\n",
    "for i in range(len(data)):\n",
    "    if data.at[i, \"defteam_scored\"] and data.at[i, \"game_time_sec\"] <= 3600:\n",
    "        def_scores.append(data.at[i, \"game_time_sec\"])\n",
    "plt.hist(def_scores, bins=75)\n",
    "plt.xticks(np.arange(0, 3601, 300))\n",
    "plt.xlabel(\"Time since game start (sec)\")\n",
    "plt.ylabel(\"Number of scores\")\n",
    "plt.title(\"Frequency of defensive scoring\")\n",
    "plt.show()"
   ]
  },
  {
   "cell_type": "markdown",
   "metadata": {},
   "source": [
    "There are a number of features in the above graphs that can be discussed, but many may not be surprising to football fans. The first obvious item that can be seen is the large spike in the middle of the offensive scoring graph. This spike is easily 4 to 5 times larger than the graph at almost any other time of the game. This spike takes place right before 1800 seconds, which is the end of the first half of the game. After half of the game, it does not matter who has the ball, as a kickoff always starts off the second half, so teams want to score if they have the ball at this time. This large spike shows that this is a very heavy source of encouragement, as teams seem to love to score at this time. A similar, yet smaller, spike can also be seen at the end of the first quarter (900 seconds), and an increase at the end of the game. The spike at the end of the first quarter is somewhat surprising, as the team that has the ball at that time will continue to have possession into the second quarter. As for the increase at the end of the game, teams who are losing the game by a small margin have a very large incentive to score at this time, as it could win them the game."
   ]
  },
  {
   "cell_type": "markdown",
   "metadata": {},
   "source": [
    "In the defensive graph, there are still a few spikes, but they are relatively much smaller. The only noticeable spikes that can be seen in this graph are at halftime and the end of the game. These peaks are likely for much of the same reasons as for the offensive graph. For the rest of the time in the game, we can see in both graphs that the frequency does not vary much. This is because teams are always wanting to score. One major difference that can be seen in comparing the graphs is that defenses score far fewer times than offenses. This is because turnovers happen few times per game, even fewer directly resulting in points."
   ]
  },
  {
   "cell_type": "markdown",
   "metadata": {},
   "source": [
    "### Pass vs run"
   ]
  },
  {
   "cell_type": "markdown",
   "metadata": {},
   "source": [
    "Next we will compare the frequencies of the two main play types, pass and run. In any regular offensive play during the game, almost all plays will be a pass or a run, so it would be interesting to see if one type was significantly more prevalent than the other. First, we will find the number of each type of play."
   ]
  },
  {
   "cell_type": "code",
   "execution_count": 8,
   "metadata": {
    "scrolled": true
   },
   "outputs": [
    {
     "name": "stdout",
     "output_type": "stream",
     "text": [
      "Number of pass plays: 159353\n",
      "Number of run plays: 120831\n"
     ]
    }
   ],
   "source": [
    "num_pass = len(data[data[\"PlayType\"]==\"Pass\"])\n",
    "num_run = len(data[data[\"PlayType\"]==\"Run\"])\n",
    "print(\"Number of pass plays:\", num_pass)\n",
    "print(\"Number of run plays:\", num_run)"
   ]
  },
  {
   "cell_type": "markdown",
   "metadata": {},
   "source": [
    "We can see that there are about 40,000 more pass plays than runs, but we do not know how statistically significant this difference is. We are in luck, as there is indeed a way to see if this is a statistically significant difference: the binomial test. We make our null hypothesis $H_0$: There is no bias towards either play type. Our alternate hypothesis is $H_1$: Plays are biased towards passing. If the p-value we get from the binomial test is less than 0.05, we can reject our null hypothesis."
   ]
  },
  {
   "cell_type": "code",
   "execution_count": 9,
   "metadata": {},
   "outputs": [
    {
     "name": "stdout",
     "output_type": "stream",
     "text": [
      "Binomial test p value: 2e-323\n"
     ]
    }
   ],
   "source": [
    "print(\"Binomial test p value:\", scipy.stats.binom_test([num_pass, num_run]))"
   ]
  },
  {
   "cell_type": "markdown",
   "metadata": {},
   "source": [
    "As we can see, the p-value is much smaller than 0.05, meaning that there is a statistically significant difference. We can thus conclude that in the NFL in general, teams are more likely to pass the ball than run a statistically significant amount of the time."
   ]
  },
  {
   "cell_type": "markdown",
   "metadata": {},
   "source": [
    "### Interceptions"
   ]
  },
  {
   "cell_type": "markdown",
   "metadata": {},
   "source": [
    "pass length- deep vs short, pass location- left right middle"
   ]
  },
  {
   "cell_type": "code",
   "execution_count": null,
   "metadata": {},
   "outputs": [],
   "source": []
  },
  {
   "cell_type": "code",
   "execution_count": null,
   "metadata": {},
   "outputs": [],
   "source": []
  },
  {
   "cell_type": "code",
   "execution_count": null,
   "metadata": {},
   "outputs": [],
   "source": []
  },
  {
   "cell_type": "code",
   "execution_count": null,
   "metadata": {},
   "outputs": [],
   "source": []
  },
  {
   "cell_type": "markdown",
   "metadata": {},
   "source": [
    "# Analysis"
   ]
  },
  {
   "cell_type": "markdown",
   "metadata": {},
   "source": [
    "# Insight"
   ]
  },
  {
   "cell_type": "code",
   "execution_count": null,
   "metadata": {},
   "outputs": [],
   "source": []
  }
 ],
 "metadata": {
  "kernelspec": {
   "display_name": "Python 3",
   "language": "python",
   "name": "python3"
  },
  "language_info": {
   "codemirror_mode": {
    "name": "ipython",
    "version": 3
   },
   "file_extension": ".py",
   "mimetype": "text/x-python",
   "name": "python",
   "nbconvert_exporter": "python",
   "pygments_lexer": "ipython3",
   "version": "3.8.0"
  }
 },
 "nbformat": 4,
 "nbformat_minor": 4
}
